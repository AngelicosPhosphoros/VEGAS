{
 "cells": [
  {
   "cell_type": "markdown",
   "metadata": {},
   "source": [
    "# Understandable implemetation of VEGAS algorithm by Timur Khuzin"
   ]
  },
  {
   "cell_type": "markdown",
   "metadata": {},
   "source": [
    "Sources:\n",
    "1. https://e-maxx.ru/bookz/files/numerical_recipes.pdf, pp. 414-416\n",
    "2. http://numerical.recipes/webnotes/nr3web9.pdf"
   ]
  },
  {
   "cell_type": "markdown",
   "metadata": {},
   "source": [
    "Created in December, 2018. <br>\n",
    "By Timur Khuzin. <br>\n",
    "https://github.com/AngelicosPhosphoros/VEGAS <br>\n",
    "http://angelicosphosphoros.pythonanywhere.com/ <br>\n",
    "xuzin.timur@gmail.com <br>\n",
    "tvkhuzin@edu.hse.ru"
   ]
  },
  {
   "cell_type": "markdown",
   "metadata": {},
   "source": [
    "## How it works\n",
    "\n",
    "Vegas is the algorithm of adaptive integration.<br>\n",
    "It divide each dimension in equal number of bins (let it be *N*). Total integral calculated as sum of all subintegrals for all combination of bins (total $N^{dim}$ combinations). Since it store bins by each dimension, total number of stored grid elements is $N*dim$.<br><br>\n",
    "Initially each dimension has equally distributed bins.\n",
    "After each epoch of calculation, bins are resized using weights in each dimension independently. The resize algorithm has these arguments: $\\alpha$ is regularization weight, *old_weights* is vector of old weights, *subintegrals* which is array with *N* rows and *dim* columns, which contains sum of subintegrals of absolute value of func in bin.<br>\n",
    "1) Calculated new weights of old bins\n",
    "$$w_i = \\frac{1}{\\alpha*Mean(subintegrals)+subintegrals_i}$$\n",
    "2) Normalize *w* to make $\\sum_{i=1}^{N}w_i=1$ <br>\n",
    "3) Calculate updated weights as multiplication of old weights on new ones, then normalize them.\n",
    "4) Calculate new bins using updated weights."
   ]
  },
  {
   "cell_type": "code",
   "execution_count": 15,
   "metadata": {},
   "outputs": [
    {
     "name": "stdout",
     "output_type": "stream",
     "text": [
      "The cython extension is already loaded. To reload it, use:\n",
      "  %reload_ext cython\n"
     ]
    }
   ],
   "source": [
    "%load_ext cython"
   ]
  },
  {
   "cell_type": "code",
   "execution_count": 16,
   "metadata": {},
   "outputs": [],
   "source": [
    "import numpy as np\n",
    "import numpy.random\n",
    "from sklearn.preprocessing import normalize\n",
    "from matplotlib.pyplot import plot"
   ]
  },
  {
   "cell_type": "code",
   "execution_count": 25,
   "metadata": {},
   "outputs": [],
   "source": [
    "%%cython\n",
    "\n",
    "cimport cython\n",
    "cimport numpy as cnp\n",
    "import numpy as np\n",
    "\n",
    "@cython.boundscheck(False)\n",
    "cdef _get_selected_region(total_region, bins, indices):\n",
    "    '''\n",
    "    I rewritten bottleneck in Cython to speed up algorithm.\n",
    "    See Vegas.get_selected_region for details.\n",
    "    '''\n",
    "    cdef double[:,:] region = total_region\n",
    "    cdef cnp.npy_intp [:] indices_view = indices\n",
    "    result = np.empty((2, len(indices)))\n",
    "    cdef double[:, :] result_view = result\n",
    "    cdef double[:, :] bins_view = bins \n",
    "    cdef Py_ssize_t index\n",
    "    cdef Py_ssize_t lower_index\n",
    "    cdef Py_ssize_t max_index = bins.shape[0] - 1 \n",
    "    cdef double tot_range\n",
    "    cdef cnp.npy_intp length = len(indices)\n",
    "    for dim in range(length):\n",
    "        tot_range = region[1,dim] - region[0,dim]\n",
    "        index = indices_view[dim]\n",
    "        lower_index = index - 1 \n",
    "        # [-1] element is left border for bin[0]\n",
    "        # so actually we need len(x)-1\n",
    "        if not index:\n",
    "            lower_index = max_index\n",
    "        result_view[0,dim] = region[0, dim] + bins_view[lower_index, dim] * tot_range\n",
    "        result_view[1,dim] = region[0, dim] + bins_view[index, dim] * tot_range\n",
    "    return result\n",
    "\n",
    "def cython_get_selected_region(total_region, bins, indices):\n",
    "    return _get_selected_region(total_region, bins, indices)"
   ]
  },
  {
   "cell_type": "code",
   "execution_count": 27,
   "metadata": {},
   "outputs": [],
   "source": [
    "class Vegas:\n",
    "    '''\n",
    "    Class for integral calculation by VEGAS algorithm.\n",
    "    It works in two steps.\n",
    "    At first step, it divide each dimension in equal number of bins per dimension.\n",
    "    Than it estimate importance of each bin in each dimesnion using absolute value of integrals in each bin.\n",
    "    After that it make more important bins smaller and less important bins larger.\n",
    "    At second step it calculate integrals in each subregion defined by bins and calculate sum of them as integral.\n",
    "    \n",
    "    Since bins have different sizes and the number of calls are equal for all bins, \n",
    "    more imporant ranges of function arguments receive more calls, so result estimation of integral are better.\n",
    "    \n",
    "    params:\n",
    "        region      matrix of [2,Dim], where [0,:] is lower limit, [1,:] is upper limit of func args.\n",
    "                    Dim is the number of dimensions\n",
    "        func        function to be integrated\n",
    "        rand        Just random generator in range [0,1)\n",
    "    '''\n",
    "    def __init__(self, region, func, rand=np.random.RandomState(seed=164)):\n",
    "        self.region = np.array(region, dtype=float)\n",
    "        self.func = func\n",
    "        self.dimensions = region.shape[1]\n",
    "        self.rand = rand\n",
    "    \n",
    "    @staticmethod\n",
    "    def resize_grid(grid, old_weights, subintegrals, alpha):\n",
    "        '''\n",
    "        This method resize grid using value of subintegrals on each bin.\n",
    "        Values of bins for each dimension calculated independently.\n",
    "        params:\n",
    "            grid           MUTABLE. grid to be adjusted\n",
    "            old_weights    Weights which were used to generate old grid\n",
    "            subintegrals   Values of mean subintegrals for each bin\n",
    "            alpha          Multiplier on regularization part of weight calculation\n",
    "        returns:\n",
    "            grid           Just reference to passed argument\n",
    "            weights        Updated weights of each bin in each dimension, with shape=[bin_num,Dim]\n",
    "        '''\n",
    "        dimensions = len(grid[0,:])\n",
    "        \n",
    "        # adjust each dimension independently\n",
    "        mean = np.mean(subintegrals, axis=0)\n",
    "        mean[mean==0] = 1 # We just try to avoid NaNs\n",
    "        rel_weights = 1/(alpha*mean+subintegrals)\n",
    "        # division works along columns\n",
    "        rel_weights = rel_weights/np.sum(rel_weights, axis=0)\n",
    "        \n",
    "        # Accuratize old weights\n",
    "        combined_weights = old_weights * rel_weights\n",
    "        combined_weights = combined_weights / np.sum(combined_weights, axis=0)\n",
    "        # Resize bins using weights\n",
    "        for dim in range(dimensions):\n",
    "            for i, w in enumerate(combined_weights[:,dim]):\n",
    "                grid[i,dim] = grid[i-1,dim] + w\n",
    "        return grid, combined_weights\n",
    "            \n",
    "    @staticmethod\n",
    "    def get_next_index(indices, limit):\n",
    "        '''Returns next index in \"little-endian\" way'''\n",
    "        for i in range(len(indices)):\n",
    "            indices[i] = (indices[i]+1)%limit\n",
    "            if indices[i]:\n",
    "                return\n",
    "            \n",
    "    def get_selected_subregion(self, bins, indices):\n",
    "        '''\n",
    "        Get subregion of shape [2,Dim] total region.\n",
    "        result[0,:] is lower bound of selected region, result[1,:] is upper bound\n",
    "        '''\n",
    "        return cython_get_selected_region(self.region, bins, indices)\n",
    "        # Those code was slow so rewritten on cython\n",
    "        # region = self.region\n",
    "        # lower_indices = indices - 1\n",
    "        # result = np.empty((2, len(indices)))\n",
    "        # for dim in range(len(indices)):\n",
    "        #    result[0,dim] = bins[lower_indices[dim], dim]\n",
    "        #    result[1,dim] = bins[indices[dim], dim]\n",
    "        # total_range = (region[1,:]-region[0,:])\n",
    "        # result[0,:] = region[0,:] + total_range*result[0,:]\n",
    "        # result[1,:] = region[0,:] + total_range*result[1,:]\n",
    "        # return result\n",
    "    \n",
    "    def prepare_grid(self, bins_per_dimension=50, epochs=100, calls_per_epoch=2500, alpha=1.0):\n",
    "        '''\n",
    "        Create adjusted grid to calculate VEGAS.\n",
    "        Regions with bigger absolute value of func tends to be smaller, and regions with values->0  tends to be larger.\n",
    "        params:\n",
    "            bins_per_dimension    number of bins in each dimension\n",
    "            epochs                number of times grid recalculated\n",
    "            calls_per_epoch       number of call in each epoch. In each bin will be calls_per_epoch/(total_bins) calls\n",
    "            alpha                 float parameter that change speed of fitting. Larger will slow fitting (see `resize_grid`)\n",
    "        '''\n",
    "        \n",
    "        if alpha<=np.finfo(float).eps:\n",
    "            raise Exception(\"To low alpha\")\n",
    "        \n",
    "        # bin values are ranged from 0 to 1\n",
    "        # I keep right borders of bins\n",
    "        # so I need to add [-1] row to calculate left border for bin0\n",
    "        # bins are kept by rows, and dimension indices are associated with columns\n",
    "        bin_num = bins_per_dimension\n",
    "        dimensions = len(self.region[0,:])\n",
    "        bins = np.empty((bin_num+1, dimensions))\n",
    "        weights = np.empty((bin_num, dimensions))\n",
    "        # We use uniform distribution to start\n",
    "        vals = np.arange((1/bin_num),1 + (1/bin_num),1/bin_num)\n",
    "        vals = np.append(vals, 0) # [-1] element is left border for bin[0]\n",
    "        ws = np.ones(bin_num)/bin_num\n",
    "        for dim in range(dimensions):\n",
    "            bins[:, dim] = vals\n",
    "            weights[:, dim] = ws\n",
    "        del vals\n",
    "        del ws\n",
    "        \n",
    "        # number of combinations by each dim\n",
    "        total_bins = bin_num**dimensions\n",
    "        calls_per_bin = min(calls_per_epoch//total_bins,2)\n",
    "        # Let resize grid\n",
    "        for epoch in range(epochs):\n",
    "            selected_bins = np.zeros(dimensions, dtype=np.intp) # indices\n",
    "            distrib = np.zeros((bin_num, dimensions), dtype=float) # To keep sum of integrals\n",
    "            \n",
    "            for _ in range(total_bins):\n",
    "                selected_zone = self.get_selected_subregion(bins, selected_bins)\n",
    "                volume = np.prod(selected_zone[1,:] - selected_zone[0,:])\n",
    "                mean_importance = 0\n",
    "                for step in range(calls_per_bin):\n",
    "                    rand_point = self.rand.rand(dimensions)\n",
    "                    call_res = self.func(selected_zone[0,:] + rand_point*(selected_zone[1,:]-selected_zone[0,:]))\n",
    "                    mean_importance += volume * np.abs(call_res) / calls_per_bin\n",
    "                for i, j in zip(selected_bins, range(dimensions)):\n",
    "                    distrib[i,j] += mean_importance\n",
    "                Vegas.get_next_index(selected_bins, bin_num)\n",
    "\n",
    "            bins, weights = Vegas.resize_grid(bins, weights, distrib, alpha)\n",
    "            \n",
    "        \n",
    "        # All correct, so we can modify model state\n",
    "        self.bin_num = bin_num\n",
    "        self.dimensions = dimensions\n",
    "        self.bins = bins\n",
    "    \n",
    "    def integrate(self, times=20, number_of_calls=10000):\n",
    "        '''\n",
    "        Final integration.\n",
    "        Calculate small integral in each bin combination (hypercube) in volume and summarize it.\n",
    "        It evaluate integral independently few times, then average it.\n",
    "        param:\n",
    "            times            how many independent evaluations to make\n",
    "            number_of_calls  how many Monte-Carlo calls in each evaluation\n",
    "        returns:\n",
    "            integral         Mean of all evaluations\n",
    "            std_error        Square root of dispertion\n",
    "        '''\n",
    "        if times<=0 or number_of_calls<=0:\n",
    "            raise Exception(\"Incorrect params\")\n",
    "            \n",
    "        bins, bin_num, dimensions = self.bins, self.bin_num, self.dimensions\n",
    "        \n",
    "        total_bins = bin_num**dimensions\n",
    "        calls_per_bin = max(number_of_calls//total_bins,2)\n",
    "        evaluations = []\n",
    "        for _ in range(times):\n",
    "            selected_bins = np.zeros(dimensions, dtype=np.intp) # indices\n",
    "            integral = 0\n",
    "            for _ in range(total_bins):\n",
    "                selected_zone = self.get_selected_subregion(bins, selected_bins)\n",
    "                volume = np.prod(selected_zone[1,:] - selected_zone[0,:])\n",
    "                little_integral = 0\n",
    "                for step in range(calls_per_bin):\n",
    "                    rand_point = self.rand.rand(dimensions)\n",
    "                    call_res = self.func(selected_zone[0,:] + rand_point*(selected_zone[1,:]-selected_zone[0,:]))\n",
    "                    little_integral += volume * call_res / calls_per_bin\n",
    "\n",
    "                integral += little_integral\n",
    "                Vegas.get_next_index(selected_bins, bin_num)\n",
    "            evaluations.append(integral)\n",
    "        \n",
    "        return np.mean(evaluations), np.var(evaluations)**0.5\n"
   ]
  },
  {
   "cell_type": "code",
   "execution_count": 31,
   "metadata": {},
   "outputs": [
    {
     "data": {
      "text/plain": [
       "[<matplotlib.lines.Line2D at 0x1880ece73c8>]"
      ]
     },
     "execution_count": 31,
     "metadata": {},
     "output_type": "execute_result"
    },
    {
     "data": {
      "image/png": "[encoded data removed]",
      "text/plain": [
       "<Figure size 432x288 with 1 Axes>"
      ]
     },
     "metadata": {},
     "output_type": "display_data"
    }
   ],
   "source": [
    "# Test cases\n",
    "\n",
    "def rnd(vect):\n",
    "    '''This is sphere with R=1 and center in {1..1}'''\n",
    "    if np.sum((vect-1)*(vect-1))<1:\n",
    "        return 1\n",
    "    return 0\n",
    "\n",
    "def grow(vect):\n",
    "    return np.sum(vect)/4\n",
    "\n",
    "model = Vegas(np.array([[0,0],[2,2]]), grow)\n",
    "model.prepare_grid(epochs=50)\n",
    "\n",
    "# let's plot weights of bins along one dimension\n",
    "v = model.bins[:,0]\n",
    "v = [v[i]-v[i-1] for i in range(len(v)-1)]\n",
    "plot(v)"
   ]
  },
  {
   "cell_type": "code",
   "execution_count": 32,
   "metadata": {},
   "outputs": [
    {
     "data": {
      "text/plain": [
       "(1.9999568927731228, 0.0002420733078483813)"
      ]
     },
     "execution_count": 32,
     "metadata": {},
     "output_type": "execute_result"
    }
   ],
   "source": [
    "model.integrate()"
   ]
  },
  {
   "cell_type": "code",
   "execution_count": 33,
   "metadata": {},
   "outputs": [
    {
     "data": {
      "text/plain": [
       "(4.189228800002878, 0.001455996483513619)"
      ]
     },
     "execution_count": 33,
     "metadata": {},
     "output_type": "execute_result"
    }
   ],
   "source": [
    "def proc():\n",
    "    model2 = Vegas(np.array([[0,0,0],[2,2,2]]), rnd)\n",
    "    model2.prepare_grid(epochs=10)\n",
    "    return model2.integrate(times=5)\n",
    "# %prun proc()\n",
    "proc()"
   ]
  },
  {
   "cell_type": "code",
   "execution_count": 34,
   "metadata": {},
   "outputs": [
    {
     "data": {
      "text/plain": [
       "4.1887902047863905"
      ]
     },
     "execution_count": 34,
     "metadata": {},
     "output_type": "execute_result"
    }
   ],
   "source": [
    "np.pi*4/3"
   ]
  },
  {
   "cell_type": "code",
   "execution_count": null,
   "metadata": {},
   "outputs": [],
   "source": []
  },
  {
   "cell_type": "code",
   "execution_count": null,
   "metadata": {},
   "outputs": [],
   "source": []
  },
  {
   "cell_type": "code",
   "execution_count": null,
   "metadata": {},
   "outputs": [],
   "source": []
  }
 ],
 "metadata": {
  "kernelspec": {
   "display_name": "Python 3",
   "language": "python",
   "name": "python3"
  },
  "language_info": {
   "codemirror_mode": {
    "name": "ipython",
    "version": 3
   },
   "file_extension": ".py",
   "mimetype": "text/x-python",
   "name": "python",
   "nbconvert_exporter": "python",
   "pygments_lexer": "ipython3",
   "version": "3.6.5"
  }
 },
 "nbformat": 4,
 "nbformat_minor": 2
}
