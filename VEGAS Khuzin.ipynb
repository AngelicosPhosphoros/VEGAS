{
 "cells": [
  {
   "cell_type": "markdown",
   "metadata": {},
   "source": [
    "# VEGAS implementation by Timur Khuzin"
   ]
  },
  {
   "cell_type": "markdown",
   "metadata": {},
   "source": [
    "Sources:\n",
    "1. https://e-maxx.ru/bookz/files/numerical_recipes.pdf, pp. 414-416\n",
    "2. http://numerical.recipes/webnotes/nr3web9.pdf"
   ]
  },
  {
   "cell_type": "markdown",
   "metadata": {},
   "source": [
    "## Implementation"
   ]
  },
  {
   "cell_type": "code",
   "execution_count": 1,
   "metadata": {},
   "outputs": [],
   "source": [
    "import numpy as np\n",
    "import numpy.random\n",
    "from sklearn.preprocessing import normalize\n",
    "\n",
    "class Vegas:\n",
    "    def __init__(self, region, f, rand=np.random.RandomState(seed=164), steps_per_dim=1000):\n",
    "        '''\n",
    "        Constructor.\n",
    "            region          is matrix 2xD, where D is dimension number. region[0,:] is lower bounds, region[1,:] is upper\n",
    "            f               is integrated function. Must accept numpy vector with len D \n",
    "            rand            random float generator in range[0;1)\n",
    "            steps_per_dim   maximal number of increments per axis\n",
    "        '''\n",
    "        self.f = f\n",
    "        self.rand = rand\n",
    "        self.steps_per_dim = steps_per_dim\n",
    "        self.shift = region[0,:]\n",
    "        self.region = np.copy(region)\n",
    "        self.region[0, :] -= self.shift\n",
    "        self.region[1, :] -= self.shift\n",
    "        self.dimensions = len(region[0,:])\n",
    "        \n",
    "    def warm_up(epochs, call_per_epoch):\n",
    "        '''\n",
    "        Prepare field for integration.\n",
    "        params:\n",
    "            epochs          number of iterations of algorithm (calculations of integral)\n",
    "            call_per_epoch  how many checks needed to calc integral in each iteration\n",
    "        '''\n",
    "        steps_per_dim = self.steps_per_dim\n",
    "        \n",
    "        # initiate field with equal subintervals\n",
    "        field = np.zeros((self.dimensions, steps_per_dim))\n",
    "        for x in range(self.dimensions):\n",
    "            lattice = np.arange(0,self.region[1,x],self.region[1,x]/steps_per_dim)\n",
    "            field[x, :] = lattice\n",
    "        \n",
    "        # weights\n",
    "        probs = np.ones((self.dimensions, steps_per_dim))\n",
    "        probs = normalize(probs, axis=1)\n",
    "        \n",
    "        total_range = self.region[1,:]\n",
    "        for e in range(epochs):\n",
    "            # new weights which will be used in next one\n",
    "            weight_update = np.clone(probs)\n",
    "            probs_reverted = 1-probs\n",
    "            for c in range(call_per_epoch):\n",
    "                chosen_indexes = self.rand.randint(0, self.steps_per_dim, self.dimensions)\n",
    "                ranges = self.rand.rand(self.dimensions)\n",
    "                argument = np.choose(chosen_indexes,field.T) + np.choose(chosen_indexes, probs_reverted.T)*ranges\n",
    "                argument += self.shift\n",
    "                weight_change = np.abs(self.f(argument))\n",
    "                for i,j in zip(range(self.dimensions, chosen_indexes)):\n",
    "                    weight_update[i,j] += weight_change\n",
    "            probs = normalize(weight_update, axis=1)\n",
    "            probs_reverted = 1 - probs\n",
    "            behind_by_lattice = np.zeros(self.dimensions)\n",
    "            for step in range(steps_per_dim):\n",
    "                field[:, step] = behind_by_lattice\n",
    "                behind_by_lattice += probs_reverted[:, step] * total_range \n",
    "                \n",
    "        \n",
    "    def vegas_integral(epochs, call_per_epoch):\n",
    "        '''\n",
    "        Implements vegas integral.\n",
    "        params:\n",
    "            epochs          number of iterations of algorithm (calculations of integral)\n",
    "            call_per_epoch  how many checks needed to calc integral in each iteration\n",
    "\n",
    "        returns object with fields: \n",
    "            integral        float value of calculated integral\n",
    "            std_deviation   standard deviation of calculated integral\n",
    "            chi2a           look Chi-squared test\n",
    "        '''\n",
    "\n",
    "        probs_reverted = np.transpose(1-probs)\n",
    "        integrals = np.zeros(epochs)\n",
    "        for iteration in range(epochs):\n",
    "            integr = 0.0\n",
    "            for c in range(call_per_epoch):\n",
    "                chosen_indexes = self.rand.randint(0, self.steps_per_dim, self.dimensions)\n",
    "                ranges = self.rand.rand(self.dimensions)\n",
    "                chose_volume = np.choose(chosen_indexes, probs_reverted.T)\n",
    "                argument = np.choose(chosen_indexes,field.T) + chose_volume*ranges\n",
    "                argument += self.shift\n",
    "                value = self.f(argument)\n",
    "                integr += value\n",
    "            integr /= call_per_epoch\n",
    "            integrals[iteration] = integr\n",
    "        \n",
    "\n",
    "        # return result\n",
    "        class answer: pass\n",
    "        ans = answer()\n",
    "        ans.integral = integral\n",
    "        ans.std_deviation = std_deviation\n",
    "        ans.chi2a = chi2a\n",
    "        return ans"
   ]
  },
  {
   "cell_type": "code",
   "execution_count": 2,
   "metadata": {},
   "outputs": [
    {
     "name": "stdout",
     "output_type": "stream",
     "text": [
      "[[0. 0. 0. 0. 0.]\n",
      " [0. 0. 0. 0. 0.]]\n",
      "[[0. 0. 0. 0. 0.]\n",
      " [1. 1. 1. 1. 1.]]\n"
     ]
    }
   ],
   "source": [
    "a = np.zeros((2,5))\n",
    "print(a)\n",
    "a[1,:] = 1\n",
    "print(a)"
   ]
  },
  {
   "cell_type": "code",
   "execution_count": 4,
   "metadata": {},
   "outputs": [
    {
     "data": {
      "text/plain": [
       "(array([[0.26726124, 0.53452248, 0.80178373],\n",
       "        [0.45584231, 0.56980288, 0.68376346],\n",
       "        [0.50257071, 0.57436653, 0.64616234]]),\n",
       " array([[0.12309149, 0.20739034, 0.26726124],\n",
       "        [0.49236596, 0.51847585, 0.53452248],\n",
       "        [0.86164044, 0.82956136, 0.80178373]]))"
      ]
     },
     "execution_count": 4,
     "metadata": {},
     "output_type": "execute_result"
    }
   ],
   "source": [
    "normalize(np.array([[1,2,3],[4,5,6],[7,8,9]]), axis=1),normalize(np.array([[1,2,3],[4,5,6],[7,8,9]]), axis=0)"
   ]
  },
  {
   "cell_type": "code",
   "execution_count": 27,
   "metadata": {},
   "outputs": [
    {
     "data": {
      "text/plain": [
       "(array([[1, 2, 3],\n",
       "        [4, 5, 6],\n",
       "        [7, 8, 9]]), array([1, 6, 9]))"
      ]
     },
     "execution_count": 27,
     "metadata": {},
     "output_type": "execute_result"
    }
   ],
   "source": [
    "np.array([[1,2,3],[4,5,6],[7,8,9]]),\\\n",
    "np.choose(np.array([0,2,2]), np.array([[1,2,3],[4,5,6],[7,8,9]]).T)"
   ]
  },
  {
   "cell_type": "code",
   "execution_count": 22,
   "metadata": {},
   "outputs": [
    {
     "data": {
      "text/plain": [
       "array([[0.4472136, 0.4472136, 0.4472136, 0.4472136, 0.4472136],\n",
       "       [0.4472136, 0.4472136, 0.4472136, 0.4472136, 0.4472136],\n",
       "       [0.4472136, 0.4472136, 0.4472136, 0.4472136, 0.4472136],\n",
       "       [0.4472136, 0.4472136, 0.4472136, 0.4472136, 0.4472136]])"
      ]
     },
     "execution_count": 22,
     "metadata": {},
     "output_type": "execute_result"
    }
   ],
   "source": [
    "probs = np.ones((4,5))\n",
    "normalize(probs, axis=1)"
   ]
  },
  {
   "cell_type": "code",
   "execution_count": null,
   "metadata": {},
   "outputs": [],
   "source": []
  }
 ],
 "metadata": {
  "kernelspec": {
   "display_name": "Python 3",
   "language": "python",
   "name": "python3"
  },
  "language_info": {
   "codemirror_mode": {
    "name": "ipython",
    "version": 3
   },
   "file_extension": ".py",
   "mimetype": "text/x-python",
   "name": "python",
   "nbconvert_exporter": "python",
   "pygments_lexer": "ipython3",
   "version": "3.7.0"
  }
 },
 "nbformat": 4,
 "nbformat_minor": 2
}
