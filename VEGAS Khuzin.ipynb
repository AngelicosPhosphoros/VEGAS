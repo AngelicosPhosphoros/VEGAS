{
 "cells": [
  {
   "cell_type": "markdown",
   "metadata": {},
   "source": [
    "# VEGAS implementation by Timur Khuzin"
   ]
  },
  {
   "cell_type": "markdown",
   "metadata": {},
   "source": [
    "Sources:\n",
    "1. https://e-maxx.ru/bookz/files/numerical_recipes.pdf, pp. 414-416\n",
    "2. http://numerical.recipes/webnotes/nr3web9.pdf"
   ]
  },
  {
   "cell_type": "markdown",
   "metadata": {},
   "source": [
    "## Implementation"
   ]
  },
  {
   "cell_type": "code",
   "execution_count": 1,
   "metadata": {},
   "outputs": [],
   "source": [
    "import numpy as np\n",
    "import numpy.random\n",
    "\n",
    "def vegas_integral(region, f, epochs, call_per_epoch, rand=np.random.RandomState(seed=164), steps_per_dim):\n",
    "    '''\n",
    "    Implements vegas integral.\n",
    "    params:\n",
    "        region          is matrix 2xD, where D is dimension number. region[0,:] is lower bounds, region[1,:] is upper\n",
    "        f               is integrated function. Must accept numpy vector with len D and one float argument (weight)\n",
    "        epochs          number of iterations of algorithm (calculations of integral)\n",
    "        call_per_epoch  how many checks needed to calc integral\n",
    "        rand            random float generator\n",
    "        steps_per_dim   maximal number of increments per axis\n",
    "        \n",
    "    returns object with fields: \n",
    "        integral        float value of calculated integral\n",
    "        std_deviation   standard deviation of calculated integral\n",
    "        chi2a           look Chi-squared test\n",
    "    '''\n",
    "    dimensions = len(region[0,:])\n",
    "    # make our region start from zero\n",
    "    shift = region[0,:]\n",
    "    region = np.copy(region)\n",
    "    region[0,:] -= shift\n",
    "    region[1,:] -= shift\n",
    "    \n",
    "    # our histograms\n",
    "    X = np.zeros(dimensions, steps_per_dim)\n",
    "    # initially equal in all range\n",
    "    X[:,0] = 1.0\n",
    "    \n",
    "    mds = ndo = 1.0 # WTF?\n",
    "    \n",
    "    for iteration in range(epochs):\n",
    "        pass\n",
    "    \n",
    "    \n",
    "    # return result\n",
    "    class answer: pass\n",
    "    ans = answer()\n",
    "    ans.integral = integral\n",
    "    ans.std_deviation = std_deviation\n",
    "    ans.chi2a = chi2a\n",
    "    return ans"
   ]
  },
  {
   "cell_type": "code",
   "execution_count": 6,
   "metadata": {},
   "outputs": [
    {
     "name": "stdout",
     "output_type": "stream",
     "text": [
      "[[0. 0. 0. 0. 0.]\n",
      " [0. 0. 0. 0. 0.]]\n",
      "[[0. 0. 0. 0. 0.]\n",
      " [1. 1. 1. 1. 1.]]\n"
     ]
    }
   ],
   "source": [
    "a = np.zeros((2,5))\n",
    "print(a)\n",
    "a[1,:] = 1\n",
    "print(a)"
   ]
  },
  {
   "cell_type": "code",
   "execution_count": null,
   "metadata": {},
   "outputs": [],
   "source": []
  }
 ],
 "metadata": {
  "kernelspec": {
   "display_name": "Python 3",
   "language": "python",
   "name": "python3"
  },
  "language_info": {
   "codemirror_mode": {
    "name": "ipython",
    "version": 3
   },
   "file_extension": ".py",
   "mimetype": "text/x-python",
   "name": "python",
   "nbconvert_exporter": "python",
   "pygments_lexer": "ipython3",
   "version": "3.6.5"
  }
 },
 "nbformat": 4,
 "nbformat_minor": 2
}
